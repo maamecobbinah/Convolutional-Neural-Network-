{
 "cells": [
  {
   "cell_type": "markdown",
   "id": "870e99e5",
   "metadata": {},
   "source": [
    "# Image Classification Using CNN"
   ]
  },
  {
   "cell_type": "markdown",
   "id": "8635055b",
   "metadata": {},
   "source": [
    "### Import Libraries"
   ]
  },
  {
   "cell_type": "code",
   "execution_count": 1,
   "id": "09683999",
   "metadata": {},
   "outputs": [],
   "source": [
    "import pandas as pd\n",
    "import numpy as np\n",
    "import matplotlib.pyplot as plt\n",
    "import seaborn as sns\n",
    "import tensorflow as tf\n",
    "from keras.preprocessing.image import ImageDataGenerator"
   ]
  },
  {
   "cell_type": "code",
   "execution_count": 2,
   "id": "79eec0e1",
   "metadata": {},
   "outputs": [
    {
     "data": {
      "text/plain": [
       "'2.8.0'"
      ]
     },
     "execution_count": 2,
     "metadata": {},
     "output_type": "execute_result"
    }
   ],
   "source": [
    "tf.__version__"
   ]
  },
  {
   "cell_type": "markdown",
   "id": "1b2c0826",
   "metadata": {},
   "source": [
    "### Read File Images, Image Preprocessing,Split to Training/Test "
   ]
  },
  {
   "cell_type": "code",
   "execution_count": 3,
   "id": "204bd466",
   "metadata": {},
   "outputs": [
    {
     "name": "stdout",
     "output_type": "stream",
     "text": [
      "Found 8000 images belonging to 2 classes.\n"
     ]
    }
   ],
   "source": [
    "#Preprocessing the Training set\n",
    "train_datagen = ImageDataGenerator(\n",
    "                rescale = 1./255,\n",
    "                shear_range = 0.2,\n",
    "                zoom_range = 0.2,\n",
    "                horizontal_flip = True) # code from keras api datapreprocessing for images https://keras.io/api/preprocessing/image/\n",
    "training_set = train_datagen.flow_from_directory('dataset/training_set',\n",
    "                                                 target_size = (64,64),\n",
    "                                                 batch_size = 32,\n",
    "                                                 class_mode ='binary')"
   ]
  },
  {
   "cell_type": "code",
   "execution_count": 4,
   "id": "95aa9f28",
   "metadata": {},
   "outputs": [
    {
     "name": "stdout",
     "output_type": "stream",
     "text": [
      "Found 2000 images belonging to 2 classes.\n"
     ]
    }
   ],
   "source": [
    "#Preprocessing the Test set \n",
    "test_datagen = ImageDataGenerator(rescale=1./255)\n",
    "test_set = test_datagen.flow_from_directory('dataset/test_set', \n",
    "                                            target_size=(64,64),\n",
    "                                            batch_size=32,\n",
    "                                            class_mode='binary')"
   ]
  },
  {
   "cell_type": "markdown",
   "id": "6bc0ba0f",
   "metadata": {},
   "source": [
    "### Building the CNN"
   ]
  },
  {
   "cell_type": "code",
   "execution_count": 5,
   "id": "b17fc476",
   "metadata": {},
   "outputs": [],
   "source": [
    "#Initialising the CNN\n",
    "cnn = tf.keras.models.Sequential()\n",
    "#Add convolution layer\n",
    "cnn.add(tf.keras.layers.Conv2D(filters=32, kernel_size=3, activation='relu', input_shape=[64,64,3]))\n",
    "#Pooling layer\n",
    "cnn.add(tf.keras.layers.MaxPool2D(pool_size=2, strides=2))\n",
    "#Second convolutionbal layer\n",
    "cnn.add(tf.keras.layers.Conv2D(filters=32, kernel_size=3, activation='relu'))\n",
    "cnn.add(tf.keras.layers.MaxPool2D(pool_size=2, strides=2))\n",
    "#Flattening\n",
    "cnn.add(tf.keras.layers.Flatten())\n",
    "#Full Connection\n",
    "cnn.add(tf.keras.layers.Dense(units=128, activation='relu'))\n",
    "#Output Layer\n",
    "cnn.add(tf.keras.layers.Dense(units=1, activation='sigmoid'))"
   ]
  },
  {
   "cell_type": "markdown",
   "id": "af70b80f",
   "metadata": {},
   "source": [
    "### Training the CNN "
   ]
  },
  {
   "cell_type": "code",
   "execution_count": 6,
   "id": "e0968520",
   "metadata": {},
   "outputs": [
    {
     "name": "stdout",
     "output_type": "stream",
     "text": [
      "Epoch 1/25\n",
      "250/250 [==============================] - 45s 177ms/step - loss: 0.6749 - accuracy: 0.5734 - val_loss: 0.6601 - val_accuracy: 0.6305\n",
      "Epoch 2/25\n",
      "250/250 [==============================] - 41s 165ms/step - loss: 0.6078 - accuracy: 0.6702 - val_loss: 0.5867 - val_accuracy: 0.7085\n",
      "Epoch 3/25\n",
      "250/250 [==============================] - 41s 164ms/step - loss: 0.5693 - accuracy: 0.7036 - val_loss: 0.5421 - val_accuracy: 0.7260\n",
      "Epoch 4/25\n",
      "250/250 [==============================] - 41s 164ms/step - loss: 0.5374 - accuracy: 0.7316 - val_loss: 0.5242 - val_accuracy: 0.7460\n",
      "Epoch 5/25\n",
      "250/250 [==============================] - 41s 163ms/step - loss: 0.5220 - accuracy: 0.7391 - val_loss: 0.5314 - val_accuracy: 0.7400\n",
      "Epoch 6/25\n",
      "250/250 [==============================] - 41s 166ms/step - loss: 0.4894 - accuracy: 0.7639 - val_loss: 0.5780 - val_accuracy: 0.7005\n",
      "Epoch 7/25\n",
      "250/250 [==============================] - 39s 156ms/step - loss: 0.4778 - accuracy: 0.7726 - val_loss: 0.4848 - val_accuracy: 0.7645\n",
      "Epoch 8/25\n",
      "250/250 [==============================] - 38s 154ms/step - loss: 0.4633 - accuracy: 0.7768 - val_loss: 0.5116 - val_accuracy: 0.7585\n",
      "Epoch 9/25\n",
      "250/250 [==============================] - 42s 168ms/step - loss: 0.4491 - accuracy: 0.7859 - val_loss: 0.4781 - val_accuracy: 0.7820\n",
      "Epoch 10/25\n",
      "250/250 [==============================] - 40s 161ms/step - loss: 0.4351 - accuracy: 0.7969 - val_loss: 0.4830 - val_accuracy: 0.7855\n",
      "Epoch 11/25\n",
      "250/250 [==============================] - 43s 172ms/step - loss: 0.4246 - accuracy: 0.8009 - val_loss: 0.5672 - val_accuracy: 0.7210\n",
      "Epoch 12/25\n",
      "250/250 [==============================] - 43s 171ms/step - loss: 0.4098 - accuracy: 0.8123 - val_loss: 0.4551 - val_accuracy: 0.7970\n",
      "Epoch 13/25\n",
      "250/250 [==============================] - 44s 174ms/step - loss: 0.3923 - accuracy: 0.8188 - val_loss: 0.4618 - val_accuracy: 0.7900\n",
      "Epoch 14/25\n",
      "250/250 [==============================] - 44s 177ms/step - loss: 0.3812 - accuracy: 0.8292 - val_loss: 0.4664 - val_accuracy: 0.7915\n",
      "Epoch 15/25\n",
      "250/250 [==============================] - 44s 177ms/step - loss: 0.3743 - accuracy: 0.8300 - val_loss: 0.4623 - val_accuracy: 0.7990\n",
      "Epoch 16/25\n",
      "250/250 [==============================] - 43s 173ms/step - loss: 0.3642 - accuracy: 0.8317 - val_loss: 0.5005 - val_accuracy: 0.7680\n",
      "Epoch 17/25\n",
      "250/250 [==============================] - 41s 162ms/step - loss: 0.3465 - accuracy: 0.8480 - val_loss: 0.4660 - val_accuracy: 0.7960\n",
      "Epoch 18/25\n",
      "250/250 [==============================] - 42s 167ms/step - loss: 0.3491 - accuracy: 0.8481 - val_loss: 0.4656 - val_accuracy: 0.8005\n",
      "Epoch 19/25\n",
      "250/250 [==============================] - 41s 164ms/step - loss: 0.3175 - accuracy: 0.8634 - val_loss: 0.5188 - val_accuracy: 0.7855\n",
      "Epoch 20/25\n",
      "250/250 [==============================] - 42s 167ms/step - loss: 0.3018 - accuracy: 0.8683 - val_loss: 0.4976 - val_accuracy: 0.7915\n",
      "Epoch 21/25\n",
      "250/250 [==============================] - 41s 166ms/step - loss: 0.3013 - accuracy: 0.8708 - val_loss: 0.4948 - val_accuracy: 0.8050\n",
      "Epoch 22/25\n",
      "250/250 [==============================] - 42s 168ms/step - loss: 0.2829 - accuracy: 0.8800 - val_loss: 0.4804 - val_accuracy: 0.8045\n",
      "Epoch 23/25\n",
      "250/250 [==============================] - 42s 170ms/step - loss: 0.2830 - accuracy: 0.8820 - val_loss: 0.5605 - val_accuracy: 0.7835\n",
      "Epoch 24/25\n",
      "250/250 [==============================] - 42s 170ms/step - loss: 0.2680 - accuracy: 0.8856 - val_loss: 0.5880 - val_accuracy: 0.7740\n",
      "Epoch 25/25\n",
      "250/250 [==============================] - 44s 174ms/step - loss: 0.2618 - accuracy: 0.8855 - val_loss: 0.5037 - val_accuracy: 0.7905\n"
     ]
    },
    {
     "data": {
      "text/plain": [
       "<keras.callbacks.History at 0x17fcadd2ca0>"
      ]
     },
     "execution_count": 6,
     "metadata": {},
     "output_type": "execute_result"
    }
   ],
   "source": [
    "#compiling CNN\n",
    "cnn.compile(optimizer = 'adam', loss = 'binary_crossentropy', metrics=['accuracy'])\n",
    "#training the CNN on the training set \n",
    "cnn.fit(x = training_set, validation_data= test_set ,epochs = 25)"
   ]
  },
  {
   "cell_type": "markdown",
   "id": "6f3f4add",
   "metadata": {},
   "source": [
    "### Single Predictions"
   ]
  },
  {
   "cell_type": "code",
   "execution_count": 8,
   "id": "ca74fb52",
   "metadata": {},
   "outputs": [
    {
     "name": "stdout",
     "output_type": "stream",
     "text": [
      "dog\n"
     ]
    }
   ],
   "source": [
    "from keras.preprocessing import image\n",
    "test_image = image.load_img('dataset\\single_prediction\\cat_or_dog_1.jpg',\n",
    "                           target_size=(64,64))\n",
    "test_image = image.img_to_array(test_image)\n",
    "test_image = np.expand_dims(test_image, axis=0)\n",
    "result = cnn.predict(test_image)\n",
    "training_set.class_indices\n",
    "if result[0][0] == 1:\n",
    "    prediction ='dog'\n",
    "else:\n",
    "    prediction ='cat'\n",
    "print(prediction)"
   ]
  },
  {
   "cell_type": "code",
   "execution_count": null,
   "id": "9370377a",
   "metadata": {},
   "outputs": [],
   "source": []
  }
 ],
 "metadata": {
  "kernelspec": {
   "display_name": "Python 3",
   "language": "python",
   "name": "python3"
  },
  "language_info": {
   "codemirror_mode": {
    "name": "ipython",
    "version": 3
   },
   "file_extension": ".py",
   "mimetype": "text/x-python",
   "name": "python",
   "nbconvert_exporter": "python",
   "pygments_lexer": "ipython3",
   "version": "3.8.8"
  }
 },
 "nbformat": 4,
 "nbformat_minor": 5
}
